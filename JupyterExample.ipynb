{
 "cells": [
  {
   "cell_type": "code",
   "execution_count": 44,
   "metadata": {},
   "outputs": [
    {
     "name": "stderr",
     "output_type": "stream",
     "text": [
      "pywifi 2023-09-25 21:19:29,025 ERROR Open handle failed!\n"
     ]
    },
    {
     "name": "stdout",
     "output_type": "stream",
     "text": [
      "0\n",
      "niubi\n"
     ]
    }
   ],
   "source": [
    "import pywifi\n",
    "from pywifi import const, Profile\n",
    "# 获取网卡接口\n",
    "wifi = pywifi.PyWiFi()\n",
    "# 得到第一个无线网卡\n",
    "ifaces = wifi.interfaces()[0]\n",
    "# 切断网卡连接(断网)\n",
    "# ifaces.disconnect()\n",
    "# 获取wifi的连接状态(0是未连接，4是已连接)\n",
    "wifistatus = ifaces.status()\n",
    "\n",
    "print(wifistatus)\n",
    "if wifistatus == const.IFACE_DISCONNECTED:\n",
    "    profile = pywifi.Profile()\n",
    "    profile.ssid = 'OnePlus Ace 2'\n",
    "    #  网卡的开放状态\n",
    "    #  \" Auth - AP \"的验证算法\n",
    "    profile.auth = const.AUTH_ALG_OPEN\n",
    " \n",
    "    #  wifi的加密算法\n",
    "    #  通常的加密算法值为 \" WPA \"\n",
    "    #  选择wifi的加密方式\n",
    "    #  \" Akm - AP \"的密钥管理\n",
    "    profile.akm.append(const.AKM_TYPE_WPA2PSK)\n",
    " \n",
    "    #  加密单元\n",
    "    #  \" Cipher - AP \"的密码类型\n",
    "    profile.cipher = const.CIPHER_TYPE_CCMP\n",
    "\n",
    "    #  设置密码\n",
    "    password = \"123456789\"\n",
    " \n",
    "    #  回调密码（wifi密码）\n",
    "    #  如果没有密码，则设置值为 \" CIPHER_TYPE_NONE \"\n",
    "    profile.key = password\n",
    "\n",
    "    # 移除所有已保存的WIFI配置文件，以确保不会发生冲突\n",
    "    ifaces.remove_all_network_profiles()\n",
    "    # 加载新的wifi连接文件\n",
    "    tep_profile = ifaces.add_network_profile(profile)\n",
    "    ifaces.connect(tep_profile)\n",
    "    print('niubi')\n",
    "else:\n",
    "    print(\"当前已连接到WIFI,无需创建新的配置文件\")"
   ]
  },
  {
   "cell_type": "code",
   "execution_count": null,
   "metadata": {},
   "outputs": [],
   "source": []
  }
 ],
 "metadata": {
  "kernelspec": {
   "display_name": "Python 3",
   "language": "python",
   "name": "python3"
  },
  "language_info": {
   "codemirror_mode": {
    "name": "ipython",
    "version": 3
   },
   "file_extension": ".py",
   "mimetype": "text/x-python",
   "name": "python",
   "nbconvert_exporter": "python",
   "pygments_lexer": "ipython3",
   "version": "3.11.5"
  },
  "orig_nbformat": 4
 },
 "nbformat": 4,
 "nbformat_minor": 2
}
